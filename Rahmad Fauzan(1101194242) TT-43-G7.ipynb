{
  "nbformat": 4,
  "nbformat_minor": 0,
  "metadata": {
    "colab": {
      "name": "Untitled0.ipynb",
      "provenance": [],
      "authorship_tag": "ABX9TyMcNfpwpwcFVWv7ObdX80dk",
      "include_colab_link": true
    },
    "kernelspec": {
      "name": "python3",
      "display_name": "Python 3"
    }
  },
  "cells": [
    {
      "cell_type": "markdown",
      "metadata": {
        "id": "view-in-github",
        "colab_type": "text"
      },
      "source": [
        "<a href=\"https://colab.research.google.com/github/rahmadfauzan/TUGAS-MINGGU-12/blob/main/Rahmad%20Fauzan(1101194242)%20TT-43-G7.ipynb\" target=\"_parent\"><img src=\"https://colab.research.google.com/assets/colab-badge.svg\" alt=\"Open In Colab\"/></a>"
      ]
    },
    {
      "cell_type": "code",
      "metadata": {
        "id": "xRwciMuZHtGz"
      },
      "source": [
        "import math\r\n",
        "\r\n",
        "#Fungsi Pathloss#\r\n",
        "def pathloss(d,fc,area,ht,hr):\r\n",
        "  if fc >= 400 and fc <= 1500:\r\n",
        "    c1 = 69.55\r\n",
        "    c2 = 26.16\r\n",
        "  elif fc > 1500 and fc <= 2000:\r\n",
        "    c1 = 46.3\r\n",
        "    c2 = 33.9\r\n",
        "  if area == '1':\r\n",
        "    cm = 0\r\n",
        "  elif area == '2':\r\n",
        "    cm = -2*(math.log10(fc/28))**2 - 5.4  \r\n",
        "  elif area == '3':\r\n",
        "    cm = -4.78*(math.log10(fc))**2 + 18.33*math.log10(fc) - 40.94\r\n",
        "  \r\n",
        "  d = d*1e3\r\n",
        "  fc = fc*1e6\r\n",
        "  ahr = (1.1 * math.log10(fc) - 0.7)*hr - (1.56 * math.log10(fc) - 0.8)\r\n",
        "  lp = c1+c2*math.log10(fc) - 13.83*math.log10(ht) - ahr + (44.9 - 6.55*math.log10(ht))*math.log10(d) + cm\r\n",
        "\r\n",
        "  return lp"
      ],
      "execution_count": 1,
      "outputs": []
    },
    {
      "cell_type": "code",
      "metadata": {
        "colab": {
          "base_uri": "https://localhost:8080/"
        },
        "id": "NTzm4e4qH4lm",
        "outputId": "6fdddba4-78c0-4d1d-9a2f-62ad5c460ed6"
      },
      "source": [
        "#Input Parameter#\r\n",
        "d = int(input(\"Masukkan Jarak Tx ke Rx (km) :\"))\r\n",
        "fc = int(input(\"Masukkan Frekuensi (MHz) : \"))\r\n",
        "area = input(\"Tentukan Area yang digunakan :\\n1. urban \\n2. suburban \\n3. open \\nPilihan: \") \r\n",
        "ht = int(input(\"Masukkan Tinggi Transmitter (30 s.d. 200 m) : \"))\r\n",
        "hr = int(input(\"Masukkan Tinggi Receiver (1 s.d. 30 m) : \"))"
      ],
      "execution_count": 2,
      "outputs": [
        {
          "output_type": "stream",
          "text": [
            "Masukkan Jarak Tx ke Rx (km) :10\n",
            "Masukkan Frekuensi (MHz) : 1500\n",
            "Tentukan Area yang digunakan :\n",
            "1. urban \n",
            "2. suburban \n",
            "3. open \n",
            "Pilihan: 1\n",
            "Masukkan Tinggi Transmitter (30 s.d. 200 m) : 50\n",
            "Masukkan Tinggi Receiver (1 s.d. 30 m) : 30\n"
          ],
          "name": "stdout"
        }
      ]
    },
    {
      "cell_type": "code",
      "metadata": {
        "colab": {
          "base_uri": "https://localhost:8080/"
        },
        "id": "Y6L6H9AgIQGG",
        "outputId": "21bd60c4-08fc-4fb1-f808-04fd46823440"
      },
      "source": [
        "#Pemanggilan fungsi#\r\n",
        "pl = pathloss(d,fc,area,ht,hr) \r\n",
        "print('Pathloss =',round(pl,2),'dB')"
      ],
      "execution_count": 3,
      "outputs": [
        {
          "output_type": "stream",
          "text": [
            "Pathloss = 152.89 dB\n"
          ],
          "name": "stdout"
        }
      ]
    }
  ]
}